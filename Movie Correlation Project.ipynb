{
 "cells": [
  {
   "cell_type": "code",
   "execution_count": 7,
   "metadata": {
    "ExecuteTime": {
     "end_time": "2021-08-18T11:50:32.100869Z",
     "start_time": "2021-08-18T11:50:32.090867Z"
    }
   },
   "outputs": [
    {
     "data": {
      "application/javascript": [
       "IPython.notebook.set_autosave_interval(5000)"
      ]
     },
     "metadata": {},
     "output_type": "display_data"
    },
    {
     "name": "stdout",
     "output_type": "stream",
     "text": [
      "Autosaving every 5 seconds\n"
     ]
    }
   ],
   "source": [
    "%autosave 5"
   ]
  },
  {
   "cell_type": "code",
   "execution_count": 8,
   "metadata": {
    "ExecuteTime": {
     "end_time": "2021-08-18T11:50:33.526619Z",
     "start_time": "2021-08-18T11:50:32.102870Z"
    }
   },
   "outputs": [],
   "source": [
    "# Import Libraries\n",
    "\n",
    "import pandas as pd\n",
    "import numpy as np\n",
    "import seaborn as sns\n",
    "\n",
    "import matplotlib.pyplot as plt\n",
    "import matplotlib.mlab as mlab\n",
    "import matplotlib\n",
    "plt.style.use('ggplot')\n",
    "from matplotlib.pyplot import figure\n",
    "\n",
    "%matplotlib inline\n",
    "matplotlib.rcParams['figure.figsize'] = (12,8)\n",
    "\n",
    "pd.options.mode.chained_assignment = None\n",
    "\n"
   ]
  },
  {
   "cell_type": "code",
   "execution_count": 9,
   "metadata": {
    "ExecuteTime": {
     "end_time": "2021-08-18T11:50:33.554624Z",
     "start_time": "2021-08-18T11:50:33.528619Z"
    }
   },
   "outputs": [],
   "source": [
    "# Read-In Data\n",
    "\n",
    "df = pd.read_csv(r'C:\\Users\\kofil\\OneDrive\\Desktop\\Portfolio Project\\movies.csv')"
   ]
  },
  {
   "cell_type": "code",
   "execution_count": 10,
   "metadata": {
    "ExecuteTime": {
     "end_time": "2021-08-18T11:50:33.574628Z",
     "start_time": "2021-08-18T11:50:33.557125Z"
    }
   },
   "outputs": [
    {
     "data": {
      "text/html": [
       "<div>\n",
       "<style scoped>\n",
       "    .dataframe tbody tr th:only-of-type {\n",
       "        vertical-align: middle;\n",
       "    }\n",
       "\n",
       "    .dataframe tbody tr th {\n",
       "        vertical-align: top;\n",
       "    }\n",
       "\n",
       "    .dataframe thead th {\n",
       "        text-align: right;\n",
       "    }\n",
       "</style>\n",
       "<table border=\"1\" class=\"dataframe\">\n",
       "  <thead>\n",
       "    <tr style=\"text-align: right;\">\n",
       "      <th></th>\n",
       "      <th>name</th>\n",
       "      <th>rating</th>\n",
       "      <th>genre</th>\n",
       "      <th>year</th>\n",
       "      <th>released</th>\n",
       "      <th>score</th>\n",
       "      <th>votes</th>\n",
       "      <th>director</th>\n",
       "      <th>writer</th>\n",
       "      <th>star</th>\n",
       "      <th>country</th>\n",
       "      <th>budget</th>\n",
       "      <th>gross</th>\n",
       "      <th>company</th>\n",
       "      <th>runtime</th>\n",
       "    </tr>\n",
       "  </thead>\n",
       "  <tbody>\n",
       "    <tr>\n",
       "      <th>0</th>\n",
       "      <td>The Shining</td>\n",
       "      <td>R</td>\n",
       "      <td>Drama</td>\n",
       "      <td>1980</td>\n",
       "      <td>6/13/1980</td>\n",
       "      <td>8.4</td>\n",
       "      <td>927000.0</td>\n",
       "      <td>Stanley Kubrick</td>\n",
       "      <td>Stephen King</td>\n",
       "      <td>Jack Nicholson</td>\n",
       "      <td>United Kingdom</td>\n",
       "      <td>19000000.0</td>\n",
       "      <td>46998772.0</td>\n",
       "      <td>Warner Bros.</td>\n",
       "      <td>146.0</td>\n",
       "    </tr>\n",
       "    <tr>\n",
       "      <th>1</th>\n",
       "      <td>The Blue Lagoon</td>\n",
       "      <td>R</td>\n",
       "      <td>Adventure</td>\n",
       "      <td>1980</td>\n",
       "      <td>7/2/1980</td>\n",
       "      <td>5.8</td>\n",
       "      <td>65000.0</td>\n",
       "      <td>Randal Kleiser</td>\n",
       "      <td>Henry De Vere Stacpoole</td>\n",
       "      <td>Brooke Shields</td>\n",
       "      <td>United States</td>\n",
       "      <td>4500000.0</td>\n",
       "      <td>58853106.0</td>\n",
       "      <td>Columbia Pictures</td>\n",
       "      <td>104.0</td>\n",
       "    </tr>\n",
       "    <tr>\n",
       "      <th>2</th>\n",
       "      <td>Star Wars: Episode V - The Empire Strikes Back</td>\n",
       "      <td>PG</td>\n",
       "      <td>Action</td>\n",
       "      <td>1980</td>\n",
       "      <td>6/20/1980</td>\n",
       "      <td>8.7</td>\n",
       "      <td>1200000.0</td>\n",
       "      <td>Irvin Kershner</td>\n",
       "      <td>Leigh Brackett</td>\n",
       "      <td>Mark Hamill</td>\n",
       "      <td>United States</td>\n",
       "      <td>18000000.0</td>\n",
       "      <td>538375067.0</td>\n",
       "      <td>Lucasfilm</td>\n",
       "      <td>124.0</td>\n",
       "    </tr>\n",
       "    <tr>\n",
       "      <th>3</th>\n",
       "      <td>Airplane!</td>\n",
       "      <td>PG</td>\n",
       "      <td>Comedy</td>\n",
       "      <td>1980</td>\n",
       "      <td>7/2/1980</td>\n",
       "      <td>7.7</td>\n",
       "      <td>221000.0</td>\n",
       "      <td>Jim Abrahams</td>\n",
       "      <td>Jim Abrahams</td>\n",
       "      <td>Robert Hays</td>\n",
       "      <td>United States</td>\n",
       "      <td>3500000.0</td>\n",
       "      <td>83453539.0</td>\n",
       "      <td>Paramount Pictures</td>\n",
       "      <td>88.0</td>\n",
       "    </tr>\n",
       "    <tr>\n",
       "      <th>4</th>\n",
       "      <td>Caddyshack</td>\n",
       "      <td>R</td>\n",
       "      <td>Comedy</td>\n",
       "      <td>1980</td>\n",
       "      <td>7/25/1980</td>\n",
       "      <td>7.3</td>\n",
       "      <td>108000.0</td>\n",
       "      <td>Harold Ramis</td>\n",
       "      <td>Brian Doyle-Murray</td>\n",
       "      <td>Chevy Chase</td>\n",
       "      <td>United States</td>\n",
       "      <td>6000000.0</td>\n",
       "      <td>39846344.0</td>\n",
       "      <td>Orion Pictures</td>\n",
       "      <td>98.0</td>\n",
       "    </tr>\n",
       "  </tbody>\n",
       "</table>\n",
       "</div>"
      ],
      "text/plain": [
       "                                             name rating      genre  year  \\\n",
       "0                                     The Shining      R      Drama  1980   \n",
       "1                                 The Blue Lagoon      R  Adventure  1980   \n",
       "2  Star Wars: Episode V - The Empire Strikes Back     PG     Action  1980   \n",
       "3                                       Airplane!     PG     Comedy  1980   \n",
       "4                                      Caddyshack      R     Comedy  1980   \n",
       "\n",
       "    released  score      votes         director                   writer  \\\n",
       "0  6/13/1980    8.4   927000.0  Stanley Kubrick             Stephen King   \n",
       "1   7/2/1980    5.8    65000.0   Randal Kleiser  Henry De Vere Stacpoole   \n",
       "2  6/20/1980    8.7  1200000.0   Irvin Kershner           Leigh Brackett   \n",
       "3   7/2/1980    7.7   221000.0     Jim Abrahams             Jim Abrahams   \n",
       "4  7/25/1980    7.3   108000.0     Harold Ramis       Brian Doyle-Murray   \n",
       "\n",
       "             star         country      budget        gross  \\\n",
       "0  Jack Nicholson  United Kingdom  19000000.0   46998772.0   \n",
       "1  Brooke Shields   United States   4500000.0   58853106.0   \n",
       "2     Mark Hamill   United States  18000000.0  538375067.0   \n",
       "3     Robert Hays   United States   3500000.0   83453539.0   \n",
       "4     Chevy Chase   United States   6000000.0   39846344.0   \n",
       "\n",
       "              company  runtime  \n",
       "0        Warner Bros.    146.0  \n",
       "1   Columbia Pictures    104.0  \n",
       "2           Lucasfilm    124.0  \n",
       "3  Paramount Pictures     88.0  \n",
       "4      Orion Pictures     98.0  "
      ]
     },
     "execution_count": 10,
     "metadata": {},
     "output_type": "execute_result"
    }
   ],
   "source": [
    "# Check Data\n",
    "\n",
    "df.head()"
   ]
  },
  {
   "cell_type": "code",
   "execution_count": 11,
   "metadata": {
    "ExecuteTime": {
     "end_time": "2021-08-18T11:50:33.592131Z",
     "start_time": "2021-08-18T11:50:33.576628Z"
    }
   },
   "outputs": [
    {
     "name": "stdout",
     "output_type": "stream",
     "text": [
      "name - 0.0%\n",
      "rating - 0.010041731872717789%\n",
      "genre - 0.0%\n",
      "year - 0.0%\n",
      "released - 0.0002608242044861763%\n",
      "score - 0.0003912363067292645%\n",
      "votes - 0.0003912363067292645%\n",
      "director - 0.0%\n",
      "writer - 0.0003912363067292645%\n",
      "star - 0.00013041210224308815%\n",
      "country - 0.0003912363067292645%\n",
      "budget - 0.2831246739697444%\n",
      "gross - 0.02464788732394366%\n",
      "company - 0.002217005738132499%\n",
      "runtime - 0.0005216484089723526%\n"
     ]
    }
   ],
   "source": [
    "# Check for missing data\n",
    "\n",
    "for col in df.columns:\n",
    "    pct_missing = np.mean(df[col].isnull())\n",
    "    print('{} - {}%'.format(col, pct_missing))"
   ]
  },
  {
   "cell_type": "code",
   "execution_count": 12,
   "metadata": {
    "ExecuteTime": {
     "end_time": "2021-08-18T11:50:33.603633Z",
     "start_time": "2021-08-18T11:50:33.594131Z"
    }
   },
   "outputs": [],
   "source": [
    "# Filled In NA Rows with 0 Values. Extremely Low Percentage of nulls was easier to deal with my making them 0's versus dropping in In[39]\n",
    "\n",
    "df = df.fillna(0)"
   ]
  },
  {
   "cell_type": "code",
   "execution_count": 13,
   "metadata": {
    "ExecuteTime": {
     "end_time": "2021-08-18T11:50:33.614136Z",
     "start_time": "2021-08-18T11:50:33.606133Z"
    }
   },
   "outputs": [
    {
     "data": {
      "text/plain": [
       "name         object\n",
       "rating       object\n",
       "genre        object\n",
       "year          int64\n",
       "released     object\n",
       "score       float64\n",
       "votes       float64\n",
       "director     object\n",
       "writer       object\n",
       "star         object\n",
       "country      object\n",
       "budget      float64\n",
       "gross       float64\n",
       "company      object\n",
       "runtime     float64\n",
       "dtype: object"
      ]
     },
     "execution_count": 13,
     "metadata": {},
     "output_type": "execute_result"
    }
   ],
   "source": [
    "# DataTypes\n",
    "\n",
    "df.dtypes"
   ]
  },
  {
   "cell_type": "code",
   "execution_count": 14,
   "metadata": {
    "ExecuteTime": {
     "end_time": "2021-08-18T11:50:33.623637Z",
     "start_time": "2021-08-18T11:50:33.616635Z"
    }
   },
   "outputs": [],
   "source": [
    "# Convert Datatype of Budget and Gross to Ints\n",
    "\n",
    "df['budget'] = df['budget'].astype('int64')\n",
    "\n",
    "df['gropss'] = df['gross'].astype('int64')"
   ]
  },
  {
   "cell_type": "code",
   "execution_count": 15,
   "metadata": {
    "ExecuteTime": {
     "end_time": "2021-08-18T11:50:33.637139Z",
     "start_time": "2021-08-18T11:50:33.626637Z"
    }
   },
   "outputs": [
    {
     "data": {
      "text/plain": [
       "name         object\n",
       "rating       object\n",
       "genre        object\n",
       "year          int64\n",
       "released     object\n",
       "score       float64\n",
       "votes       float64\n",
       "director     object\n",
       "writer       object\n",
       "star         object\n",
       "country      object\n",
       "budget        int64\n",
       "gross       float64\n",
       "company      object\n",
       "runtime     float64\n",
       "gropss        int64\n",
       "dtype: object"
      ]
     },
     "execution_count": 15,
     "metadata": {},
     "output_type": "execute_result"
    }
   ],
   "source": [
    "# Check DataTypes to Confirm\n",
    "\n",
    "# DataTypes\n",
    "\n",
    "df.dtypes"
   ]
  },
  {
   "cell_type": "code",
   "execution_count": 16,
   "metadata": {
    "ExecuteTime": {
     "end_time": "2021-08-18T11:50:33.673145Z",
     "start_time": "2021-08-18T11:50:33.640140Z"
    }
   },
   "outputs": [],
   "source": [
    "# Create Correct Year Column\n",
    "\n",
    "# df['Year_Correct'] = df['released'].astype(str).str[:4]"
   ]
  },
  {
   "cell_type": "code",
   "execution_count": 17,
   "metadata": {
    "ExecuteTime": {
     "end_time": "2021-08-18T11:50:33.683148Z",
     "start_time": "2021-08-18T11:50:33.674645Z"
    }
   },
   "outputs": [],
   "source": [
    "#df.drop(columns=['Year_Correct'])"
   ]
  },
  {
   "cell_type": "code",
   "execution_count": 18,
   "metadata": {
    "ExecuteTime": {
     "end_time": "2021-08-18T11:50:33.723653Z",
     "start_time": "2021-08-18T11:50:33.684647Z"
    }
   },
   "outputs": [
    {
     "data": {
      "text/html": [
       "<div>\n",
       "<style scoped>\n",
       "    .dataframe tbody tr th:only-of-type {\n",
       "        vertical-align: middle;\n",
       "    }\n",
       "\n",
       "    .dataframe tbody tr th {\n",
       "        vertical-align: top;\n",
       "    }\n",
       "\n",
       "    .dataframe thead th {\n",
       "        text-align: right;\n",
       "    }\n",
       "</style>\n",
       "<table border=\"1\" class=\"dataframe\">\n",
       "  <thead>\n",
       "    <tr style=\"text-align: right;\">\n",
       "      <th></th>\n",
       "      <th>name</th>\n",
       "      <th>rating</th>\n",
       "      <th>genre</th>\n",
       "      <th>year</th>\n",
       "      <th>released</th>\n",
       "      <th>score</th>\n",
       "      <th>votes</th>\n",
       "      <th>director</th>\n",
       "      <th>writer</th>\n",
       "      <th>star</th>\n",
       "      <th>country</th>\n",
       "      <th>budget</th>\n",
       "      <th>gross</th>\n",
       "      <th>company</th>\n",
       "      <th>runtime</th>\n",
       "      <th>gropss</th>\n",
       "    </tr>\n",
       "  </thead>\n",
       "  <tbody>\n",
       "    <tr>\n",
       "      <th>5445</th>\n",
       "      <td>Avatar</td>\n",
       "      <td>PG-13</td>\n",
       "      <td>Action</td>\n",
       "      <td>2009</td>\n",
       "      <td>12/18/2009</td>\n",
       "      <td>7.8</td>\n",
       "      <td>1100000.0</td>\n",
       "      <td>James Cameron</td>\n",
       "      <td>James Cameron</td>\n",
       "      <td>Sam Worthington</td>\n",
       "      <td>United States</td>\n",
       "      <td>237000000</td>\n",
       "      <td>2.847246e+09</td>\n",
       "      <td>Twentieth Century Fox</td>\n",
       "      <td>162.0</td>\n",
       "      <td>2847246203</td>\n",
       "    </tr>\n",
       "    <tr>\n",
       "      <th>7445</th>\n",
       "      <td>Avengers: Endgame</td>\n",
       "      <td>PG-13</td>\n",
       "      <td>Action</td>\n",
       "      <td>2019</td>\n",
       "      <td>4/26/2019</td>\n",
       "      <td>8.4</td>\n",
       "      <td>903000.0</td>\n",
       "      <td>Anthony Russo</td>\n",
       "      <td>Christopher Markus</td>\n",
       "      <td>Robert Downey Jr.</td>\n",
       "      <td>United States</td>\n",
       "      <td>356000000</td>\n",
       "      <td>2.797501e+09</td>\n",
       "      <td>Marvel Studios</td>\n",
       "      <td>181.0</td>\n",
       "      <td>2797501328</td>\n",
       "    </tr>\n",
       "    <tr>\n",
       "      <th>3045</th>\n",
       "      <td>Titanic</td>\n",
       "      <td>PG-13</td>\n",
       "      <td>Drama</td>\n",
       "      <td>1997</td>\n",
       "      <td>12/19/1997</td>\n",
       "      <td>7.8</td>\n",
       "      <td>1100000.0</td>\n",
       "      <td>James Cameron</td>\n",
       "      <td>James Cameron</td>\n",
       "      <td>Leonardo DiCaprio</td>\n",
       "      <td>United States</td>\n",
       "      <td>200000000</td>\n",
       "      <td>2.201647e+09</td>\n",
       "      <td>Twentieth Century Fox</td>\n",
       "      <td>194.0</td>\n",
       "      <td>2201647264</td>\n",
       "    </tr>\n",
       "    <tr>\n",
       "      <th>6663</th>\n",
       "      <td>Star Wars: Episode VII - The Force Awakens</td>\n",
       "      <td>PG-13</td>\n",
       "      <td>Action</td>\n",
       "      <td>2015</td>\n",
       "      <td>12/18/2015</td>\n",
       "      <td>7.8</td>\n",
       "      <td>876000.0</td>\n",
       "      <td>J.J. Abrams</td>\n",
       "      <td>Lawrence Kasdan</td>\n",
       "      <td>Daisy Ridley</td>\n",
       "      <td>United States</td>\n",
       "      <td>245000000</td>\n",
       "      <td>2.069522e+09</td>\n",
       "      <td>Lucasfilm</td>\n",
       "      <td>138.0</td>\n",
       "      <td>2069521700</td>\n",
       "    </tr>\n",
       "    <tr>\n",
       "      <th>7244</th>\n",
       "      <td>Avengers: Infinity War</td>\n",
       "      <td>PG-13</td>\n",
       "      <td>Action</td>\n",
       "      <td>2018</td>\n",
       "      <td>4/27/2018</td>\n",
       "      <td>8.4</td>\n",
       "      <td>897000.0</td>\n",
       "      <td>Anthony Russo</td>\n",
       "      <td>Christopher Markus</td>\n",
       "      <td>Robert Downey Jr.</td>\n",
       "      <td>United States</td>\n",
       "      <td>321000000</td>\n",
       "      <td>2.048360e+09</td>\n",
       "      <td>Marvel Studios</td>\n",
       "      <td>149.0</td>\n",
       "      <td>2048359754</td>\n",
       "    </tr>\n",
       "    <tr>\n",
       "      <th>...</th>\n",
       "      <td>...</td>\n",
       "      <td>...</td>\n",
       "      <td>...</td>\n",
       "      <td>...</td>\n",
       "      <td>...</td>\n",
       "      <td>...</td>\n",
       "      <td>...</td>\n",
       "      <td>...</td>\n",
       "      <td>...</td>\n",
       "      <td>...</td>\n",
       "      <td>...</td>\n",
       "      <td>...</td>\n",
       "      <td>...</td>\n",
       "      <td>...</td>\n",
       "      <td>...</td>\n",
       "      <td>...</td>\n",
       "    </tr>\n",
       "    <tr>\n",
       "      <th>1617</th>\n",
       "      <td>Mortal Passions</td>\n",
       "      <td>R</td>\n",
       "      <td>Crime</td>\n",
       "      <td>1989</td>\n",
       "      <td>1/26/1990</td>\n",
       "      <td>4.5</td>\n",
       "      <td>274.0</td>\n",
       "      <td>Andrew Lane</td>\n",
       "      <td>Alan Moskowitz</td>\n",
       "      <td>Zach Galligan</td>\n",
       "      <td>United States</td>\n",
       "      <td>0</td>\n",
       "      <td>0.000000e+00</td>\n",
       "      <td>Gibraltar Entertainment</td>\n",
       "      <td>92.0</td>\n",
       "      <td>0</td>\n",
       "    </tr>\n",
       "    <tr>\n",
       "      <th>1614</th>\n",
       "      <td>Edge of Sanity</td>\n",
       "      <td>R</td>\n",
       "      <td>Horror</td>\n",
       "      <td>1989</td>\n",
       "      <td>4/14/1989</td>\n",
       "      <td>5.2</td>\n",
       "      <td>1300.0</td>\n",
       "      <td>Gérard Kikoïne</td>\n",
       "      <td>J.P. Félix</td>\n",
       "      <td>Anthony Perkins</td>\n",
       "      <td>United Kingdom</td>\n",
       "      <td>0</td>\n",
       "      <td>0.000000e+00</td>\n",
       "      <td>Allied Vision</td>\n",
       "      <td>85.0</td>\n",
       "      <td>0</td>\n",
       "    </tr>\n",
       "    <tr>\n",
       "      <th>1606</th>\n",
       "      <td>I, Madman</td>\n",
       "      <td>R</td>\n",
       "      <td>Fantasy</td>\n",
       "      <td>1989</td>\n",
       "      <td>4/7/1989</td>\n",
       "      <td>6.0</td>\n",
       "      <td>2900.0</td>\n",
       "      <td>Tibor Takács</td>\n",
       "      <td>David Chaskin</td>\n",
       "      <td>Jenny Wright</td>\n",
       "      <td>Canada</td>\n",
       "      <td>0</td>\n",
       "      <td>0.000000e+00</td>\n",
       "      <td>Trans World Entertainment (TWE)</td>\n",
       "      <td>89.0</td>\n",
       "      <td>0</td>\n",
       "    </tr>\n",
       "    <tr>\n",
       "      <th>1601</th>\n",
       "      <td>My Twentieth Century</td>\n",
       "      <td>0</td>\n",
       "      <td>Comedy</td>\n",
       "      <td>1989</td>\n",
       "      <td>January 13, 1990 (Japan)</td>\n",
       "      <td>7.1</td>\n",
       "      <td>1500.0</td>\n",
       "      <td>Ildikó Enyedi</td>\n",
       "      <td>Ildikó Enyedi</td>\n",
       "      <td>Dorota Segda</td>\n",
       "      <td>Hungary</td>\n",
       "      <td>0</td>\n",
       "      <td>0.000000e+00</td>\n",
       "      <td>Budapest Stúdió Vállalat</td>\n",
       "      <td>104.0</td>\n",
       "      <td>0</td>\n",
       "    </tr>\n",
       "    <tr>\n",
       "      <th>7667</th>\n",
       "      <td>Tee em el</td>\n",
       "      <td>0</td>\n",
       "      <td>Horror</td>\n",
       "      <td>2020</td>\n",
       "      <td>8/19/2020</td>\n",
       "      <td>5.7</td>\n",
       "      <td>7.0</td>\n",
       "      <td>Pereko Mosia</td>\n",
       "      <td>Pereko Mosia</td>\n",
       "      <td>Siyabonga Mabaso</td>\n",
       "      <td>South Africa</td>\n",
       "      <td>0</td>\n",
       "      <td>0.000000e+00</td>\n",
       "      <td>PK 65 Films</td>\n",
       "      <td>102.0</td>\n",
       "      <td>0</td>\n",
       "    </tr>\n",
       "  </tbody>\n",
       "</table>\n",
       "<p>7668 rows × 16 columns</p>\n",
       "</div>"
      ],
      "text/plain": [
       "                                            name rating    genre  year  \\\n",
       "5445                                      Avatar  PG-13   Action  2009   \n",
       "7445                           Avengers: Endgame  PG-13   Action  2019   \n",
       "3045                                     Titanic  PG-13    Drama  1997   \n",
       "6663  Star Wars: Episode VII - The Force Awakens  PG-13   Action  2015   \n",
       "7244                      Avengers: Infinity War  PG-13   Action  2018   \n",
       "...                                          ...    ...      ...   ...   \n",
       "1617                             Mortal Passions      R    Crime  1989   \n",
       "1614                              Edge of Sanity      R   Horror  1989   \n",
       "1606                                   I, Madman      R  Fantasy  1989   \n",
       "1601                        My Twentieth Century      0   Comedy  1989   \n",
       "7667                                   Tee em el      0   Horror  2020   \n",
       "\n",
       "                      released  score      votes        director  \\\n",
       "5445                12/18/2009    7.8  1100000.0   James Cameron   \n",
       "7445                 4/26/2019    8.4   903000.0   Anthony Russo   \n",
       "3045                12/19/1997    7.8  1100000.0   James Cameron   \n",
       "6663                12/18/2015    7.8   876000.0     J.J. Abrams   \n",
       "7244                 4/27/2018    8.4   897000.0   Anthony Russo   \n",
       "...                        ...    ...        ...             ...   \n",
       "1617                 1/26/1990    4.5      274.0     Andrew Lane   \n",
       "1614                 4/14/1989    5.2     1300.0  Gérard Kikoïne   \n",
       "1606                  4/7/1989    6.0     2900.0    Tibor Takács   \n",
       "1601  January 13, 1990 (Japan)    7.1     1500.0   Ildikó Enyedi   \n",
       "7667                 8/19/2020    5.7        7.0    Pereko Mosia   \n",
       "\n",
       "                  writer               star         country     budget  \\\n",
       "5445       James Cameron    Sam Worthington   United States  237000000   \n",
       "7445  Christopher Markus  Robert Downey Jr.   United States  356000000   \n",
       "3045       James Cameron  Leonardo DiCaprio   United States  200000000   \n",
       "6663     Lawrence Kasdan       Daisy Ridley   United States  245000000   \n",
       "7244  Christopher Markus  Robert Downey Jr.   United States  321000000   \n",
       "...                  ...                ...             ...        ...   \n",
       "1617      Alan Moskowitz      Zach Galligan   United States          0   \n",
       "1614          J.P. Félix    Anthony Perkins  United Kingdom          0   \n",
       "1606       David Chaskin       Jenny Wright          Canada          0   \n",
       "1601       Ildikó Enyedi       Dorota Segda         Hungary          0   \n",
       "7667        Pereko Mosia   Siyabonga Mabaso    South Africa          0   \n",
       "\n",
       "             gross                          company  runtime      gropss  \n",
       "5445  2.847246e+09            Twentieth Century Fox    162.0  2847246203  \n",
       "7445  2.797501e+09                   Marvel Studios    181.0  2797501328  \n",
       "3045  2.201647e+09            Twentieth Century Fox    194.0  2201647264  \n",
       "6663  2.069522e+09                        Lucasfilm    138.0  2069521700  \n",
       "7244  2.048360e+09                   Marvel Studios    149.0  2048359754  \n",
       "...            ...                              ...      ...         ...  \n",
       "1617  0.000000e+00          Gibraltar Entertainment     92.0           0  \n",
       "1614  0.000000e+00                    Allied Vision     85.0           0  \n",
       "1606  0.000000e+00  Trans World Entertainment (TWE)     89.0           0  \n",
       "1601  0.000000e+00         Budapest Stúdió Vállalat    104.0           0  \n",
       "7667  0.000000e+00                      PK 65 Films    102.0           0  \n",
       "\n",
       "[7668 rows x 16 columns]"
      ]
     },
     "execution_count": 18,
     "metadata": {},
     "output_type": "execute_result"
    }
   ],
   "source": [
    "df.sort_values(by=['gross'],inplace=False,ascending=False)"
   ]
  },
  {
   "cell_type": "code",
   "execution_count": 19,
   "metadata": {
    "ExecuteTime": {
     "end_time": "2021-08-18T11:50:33.727154Z",
     "start_time": "2021-08-18T11:50:33.725154Z"
    }
   },
   "outputs": [],
   "source": [
    "# View all data\n",
    "# pd.set_option('display.max_rows', None)"
   ]
  },
  {
   "cell_type": "code",
   "execution_count": 20,
   "metadata": {
    "ExecuteTime": {
     "end_time": "2021-08-18T11:50:33.767661Z",
     "start_time": "2021-08-18T11:50:33.729155Z"
    }
   },
   "outputs": [
    {
     "data": {
      "text/html": [
       "<div>\n",
       "<style scoped>\n",
       "    .dataframe tbody tr th:only-of-type {\n",
       "        vertical-align: middle;\n",
       "    }\n",
       "\n",
       "    .dataframe tbody tr th {\n",
       "        vertical-align: top;\n",
       "    }\n",
       "\n",
       "    .dataframe thead th {\n",
       "        text-align: right;\n",
       "    }\n",
       "</style>\n",
       "<table border=\"1\" class=\"dataframe\">\n",
       "  <thead>\n",
       "    <tr style=\"text-align: right;\">\n",
       "      <th></th>\n",
       "      <th>name</th>\n",
       "      <th>rating</th>\n",
       "      <th>genre</th>\n",
       "      <th>year</th>\n",
       "      <th>released</th>\n",
       "      <th>score</th>\n",
       "      <th>votes</th>\n",
       "      <th>director</th>\n",
       "      <th>writer</th>\n",
       "      <th>star</th>\n",
       "      <th>country</th>\n",
       "      <th>budget</th>\n",
       "      <th>gross</th>\n",
       "      <th>company</th>\n",
       "      <th>runtime</th>\n",
       "      <th>gropss</th>\n",
       "    </tr>\n",
       "  </thead>\n",
       "  <tbody>\n",
       "    <tr>\n",
       "      <th>0</th>\n",
       "      <td>The Shining</td>\n",
       "      <td>R</td>\n",
       "      <td>Drama</td>\n",
       "      <td>1980</td>\n",
       "      <td>6/13/1980</td>\n",
       "      <td>8.4</td>\n",
       "      <td>927000.0</td>\n",
       "      <td>Stanley Kubrick</td>\n",
       "      <td>Stephen King</td>\n",
       "      <td>Jack Nicholson</td>\n",
       "      <td>United Kingdom</td>\n",
       "      <td>19000000</td>\n",
       "      <td>46998772.0</td>\n",
       "      <td>Warner Bros.</td>\n",
       "      <td>146.0</td>\n",
       "      <td>46998772</td>\n",
       "    </tr>\n",
       "    <tr>\n",
       "      <th>1</th>\n",
       "      <td>The Blue Lagoon</td>\n",
       "      <td>R</td>\n",
       "      <td>Adventure</td>\n",
       "      <td>1980</td>\n",
       "      <td>7/2/1980</td>\n",
       "      <td>5.8</td>\n",
       "      <td>65000.0</td>\n",
       "      <td>Randal Kleiser</td>\n",
       "      <td>Henry De Vere Stacpoole</td>\n",
       "      <td>Brooke Shields</td>\n",
       "      <td>United States</td>\n",
       "      <td>4500000</td>\n",
       "      <td>58853106.0</td>\n",
       "      <td>Columbia Pictures</td>\n",
       "      <td>104.0</td>\n",
       "      <td>58853106</td>\n",
       "    </tr>\n",
       "    <tr>\n",
       "      <th>2</th>\n",
       "      <td>Star Wars: Episode V - The Empire Strikes Back</td>\n",
       "      <td>PG</td>\n",
       "      <td>Action</td>\n",
       "      <td>1980</td>\n",
       "      <td>6/20/1980</td>\n",
       "      <td>8.7</td>\n",
       "      <td>1200000.0</td>\n",
       "      <td>Irvin Kershner</td>\n",
       "      <td>Leigh Brackett</td>\n",
       "      <td>Mark Hamill</td>\n",
       "      <td>United States</td>\n",
       "      <td>18000000</td>\n",
       "      <td>538375067.0</td>\n",
       "      <td>Lucasfilm</td>\n",
       "      <td>124.0</td>\n",
       "      <td>538375067</td>\n",
       "    </tr>\n",
       "    <tr>\n",
       "      <th>3</th>\n",
       "      <td>Airplane!</td>\n",
       "      <td>PG</td>\n",
       "      <td>Comedy</td>\n",
       "      <td>1980</td>\n",
       "      <td>7/2/1980</td>\n",
       "      <td>7.7</td>\n",
       "      <td>221000.0</td>\n",
       "      <td>Jim Abrahams</td>\n",
       "      <td>Jim Abrahams</td>\n",
       "      <td>Robert Hays</td>\n",
       "      <td>United States</td>\n",
       "      <td>3500000</td>\n",
       "      <td>83453539.0</td>\n",
       "      <td>Paramount Pictures</td>\n",
       "      <td>88.0</td>\n",
       "      <td>83453539</td>\n",
       "    </tr>\n",
       "    <tr>\n",
       "      <th>4</th>\n",
       "      <td>Caddyshack</td>\n",
       "      <td>R</td>\n",
       "      <td>Comedy</td>\n",
       "      <td>1980</td>\n",
       "      <td>7/25/1980</td>\n",
       "      <td>7.3</td>\n",
       "      <td>108000.0</td>\n",
       "      <td>Harold Ramis</td>\n",
       "      <td>Brian Doyle-Murray</td>\n",
       "      <td>Chevy Chase</td>\n",
       "      <td>United States</td>\n",
       "      <td>6000000</td>\n",
       "      <td>39846344.0</td>\n",
       "      <td>Orion Pictures</td>\n",
       "      <td>98.0</td>\n",
       "      <td>39846344</td>\n",
       "    </tr>\n",
       "    <tr>\n",
       "      <th>...</th>\n",
       "      <td>...</td>\n",
       "      <td>...</td>\n",
       "      <td>...</td>\n",
       "      <td>...</td>\n",
       "      <td>...</td>\n",
       "      <td>...</td>\n",
       "      <td>...</td>\n",
       "      <td>...</td>\n",
       "      <td>...</td>\n",
       "      <td>...</td>\n",
       "      <td>...</td>\n",
       "      <td>...</td>\n",
       "      <td>...</td>\n",
       "      <td>...</td>\n",
       "      <td>...</td>\n",
       "      <td>...</td>\n",
       "    </tr>\n",
       "    <tr>\n",
       "      <th>7658</th>\n",
       "      <td>Black Wall Street Burning</td>\n",
       "      <td>R</td>\n",
       "      <td>Drama</td>\n",
       "      <td>2020</td>\n",
       "      <td>2/7/2020</td>\n",
       "      <td>6.6</td>\n",
       "      <td>35.0</td>\n",
       "      <td>Marcus Brown</td>\n",
       "      <td>Dekoven Riggins</td>\n",
       "      <td>Dan Belcher</td>\n",
       "      <td>United States</td>\n",
       "      <td>5000</td>\n",
       "      <td>0.0</td>\n",
       "      <td>Notis Studio</td>\n",
       "      <td>78.0</td>\n",
       "      <td>0</td>\n",
       "    </tr>\n",
       "    <tr>\n",
       "      <th>7660</th>\n",
       "      <td>Aloha Surf Hotel</td>\n",
       "      <td>0</td>\n",
       "      <td>Comedy</td>\n",
       "      <td>2020</td>\n",
       "      <td>11/5/2020</td>\n",
       "      <td>7.1</td>\n",
       "      <td>14.0</td>\n",
       "      <td>Stefan C. Schaefer</td>\n",
       "      <td>Stefan C. Schaefer</td>\n",
       "      <td>Augie Tulba</td>\n",
       "      <td>United States</td>\n",
       "      <td>0</td>\n",
       "      <td>0.0</td>\n",
       "      <td>Abominable Pictures</td>\n",
       "      <td>90.0</td>\n",
       "      <td>0</td>\n",
       "    </tr>\n",
       "    <tr>\n",
       "      <th>7661</th>\n",
       "      <td>Love by Drowning</td>\n",
       "      <td>R</td>\n",
       "      <td>Drama</td>\n",
       "      <td>2020</td>\n",
       "      <td>11/6/2020</td>\n",
       "      <td>0.0</td>\n",
       "      <td>0.0</td>\n",
       "      <td>Justin Kreinbrink</td>\n",
       "      <td>C.E. Poverman</td>\n",
       "      <td>Nicky Whelan</td>\n",
       "      <td>United States</td>\n",
       "      <td>1000000</td>\n",
       "      <td>0.0</td>\n",
       "      <td>Dow Jazz Films</td>\n",
       "      <td>121.0</td>\n",
       "      <td>0</td>\n",
       "    </tr>\n",
       "    <tr>\n",
       "      <th>7665</th>\n",
       "      <td>Saving Mbango</td>\n",
       "      <td>0</td>\n",
       "      <td>Drama</td>\n",
       "      <td>2020</td>\n",
       "      <td>April 27, 2020 (Cameroon)</td>\n",
       "      <td>5.7</td>\n",
       "      <td>29.0</td>\n",
       "      <td>Nkanya Nkwai</td>\n",
       "      <td>Lynno Lovert</td>\n",
       "      <td>Onyama Laura</td>\n",
       "      <td>United States</td>\n",
       "      <td>58750</td>\n",
       "      <td>0.0</td>\n",
       "      <td>Embi Productions</td>\n",
       "      <td>0.0</td>\n",
       "      <td>0</td>\n",
       "    </tr>\n",
       "    <tr>\n",
       "      <th>7667</th>\n",
       "      <td>Tee em el</td>\n",
       "      <td>0</td>\n",
       "      <td>Horror</td>\n",
       "      <td>2020</td>\n",
       "      <td>8/19/2020</td>\n",
       "      <td>5.7</td>\n",
       "      <td>7.0</td>\n",
       "      <td>Pereko Mosia</td>\n",
       "      <td>Pereko Mosia</td>\n",
       "      <td>Siyabonga Mabaso</td>\n",
       "      <td>South Africa</td>\n",
       "      <td>0</td>\n",
       "      <td>0.0</td>\n",
       "      <td>PK 65 Films</td>\n",
       "      <td>102.0</td>\n",
       "      <td>0</td>\n",
       "    </tr>\n",
       "  </tbody>\n",
       "</table>\n",
       "<p>2386 rows × 16 columns</p>\n",
       "</div>"
      ],
      "text/plain": [
       "                                                name rating      genre  year  \\\n",
       "0                                        The Shining      R      Drama  1980   \n",
       "1                                    The Blue Lagoon      R  Adventure  1980   \n",
       "2     Star Wars: Episode V - The Empire Strikes Back     PG     Action  1980   \n",
       "3                                          Airplane!     PG     Comedy  1980   \n",
       "4                                         Caddyshack      R     Comedy  1980   \n",
       "...                                              ...    ...        ...   ...   \n",
       "7658                       Black Wall Street Burning      R      Drama  2020   \n",
       "7660                                Aloha Surf Hotel      0     Comedy  2020   \n",
       "7661                                Love by Drowning      R      Drama  2020   \n",
       "7665                                   Saving Mbango      0      Drama  2020   \n",
       "7667                                       Tee em el      0     Horror  2020   \n",
       "\n",
       "                       released  score      votes            director  \\\n",
       "0                     6/13/1980    8.4   927000.0     Stanley Kubrick   \n",
       "1                      7/2/1980    5.8    65000.0      Randal Kleiser   \n",
       "2                     6/20/1980    8.7  1200000.0      Irvin Kershner   \n",
       "3                      7/2/1980    7.7   221000.0        Jim Abrahams   \n",
       "4                     7/25/1980    7.3   108000.0        Harold Ramis   \n",
       "...                         ...    ...        ...                 ...   \n",
       "7658                   2/7/2020    6.6       35.0        Marcus Brown   \n",
       "7660                  11/5/2020    7.1       14.0  Stefan C. Schaefer   \n",
       "7661                  11/6/2020    0.0        0.0   Justin Kreinbrink   \n",
       "7665  April 27, 2020 (Cameroon)    5.7       29.0        Nkanya Nkwai   \n",
       "7667                  8/19/2020    5.7        7.0        Pereko Mosia   \n",
       "\n",
       "                       writer              star         country    budget  \\\n",
       "0                Stephen King    Jack Nicholson  United Kingdom  19000000   \n",
       "1     Henry De Vere Stacpoole    Brooke Shields   United States   4500000   \n",
       "2              Leigh Brackett       Mark Hamill   United States  18000000   \n",
       "3                Jim Abrahams       Robert Hays   United States   3500000   \n",
       "4          Brian Doyle-Murray       Chevy Chase   United States   6000000   \n",
       "...                       ...               ...             ...       ...   \n",
       "7658          Dekoven Riggins       Dan Belcher   United States      5000   \n",
       "7660       Stefan C. Schaefer       Augie Tulba   United States         0   \n",
       "7661            C.E. Poverman      Nicky Whelan   United States   1000000   \n",
       "7665             Lynno Lovert      Onyama Laura   United States     58750   \n",
       "7667             Pereko Mosia  Siyabonga Mabaso    South Africa         0   \n",
       "\n",
       "            gross              company  runtime     gropss  \n",
       "0      46998772.0         Warner Bros.    146.0   46998772  \n",
       "1      58853106.0    Columbia Pictures    104.0   58853106  \n",
       "2     538375067.0            Lucasfilm    124.0  538375067  \n",
       "3      83453539.0   Paramount Pictures     88.0   83453539  \n",
       "4      39846344.0       Orion Pictures     98.0   39846344  \n",
       "...           ...                  ...      ...        ...  \n",
       "7658          0.0         Notis Studio     78.0          0  \n",
       "7660          0.0  Abominable Pictures     90.0          0  \n",
       "7661          0.0       Dow Jazz Films    121.0          0  \n",
       "7665          0.0     Embi Productions      0.0          0  \n",
       "7667          0.0          PK 65 Films    102.0          0  \n",
       "\n",
       "[2386 rows x 16 columns]"
      ]
     },
     "execution_count": 20,
     "metadata": {},
     "output_type": "execute_result"
    }
   ],
   "source": [
    "# Drop Duplicates\n",
    "\n",
    "df.drop_duplicates(subset=['company'])"
   ]
  },
  {
   "cell_type": "markdown",
   "metadata": {},
   "source": [
    "## Budget High Correlation\n",
    "## Company High Correlation"
   ]
  },
  {
   "cell_type": "code",
   "execution_count": 21,
   "metadata": {
    "ExecuteTime": {
     "end_time": "2021-08-18T11:50:34.160230Z",
     "start_time": "2021-08-18T11:50:33.769162Z"
    }
   },
   "outputs": [
    {
     "data": {
      "image/png": "[encoded data removed]",
      "text/plain": [
       "<Figure size 1440x1440 with 1 Axes>"
      ]
     },
     "metadata": {
      "needs_background": "light"
     },
     "output_type": "display_data"
    }
   ],
   "source": [
    "# Scatter Plot with Budget vs Gross\n",
    "\n",
    "plt.figure(figsize=(20,20))\n",
    "\n",
    "plt.scatter(x=df['budget'], y=df['gross'])\n",
    "\n",
    "plt.title('Budget vs. Gross Earnings')\n",
    "\n",
    "plt.xlabel('Gross Earnings')\n",
    "\n",
    "plt.ylabel('Film Budget')\n",
    "\n",
    "plt.show()"
   ]
  },
  {
   "cell_type": "code",
   "execution_count": 22,
   "metadata": {
    "ExecuteTime": {
     "end_time": "2021-08-18T11:50:34.831848Z",
     "start_time": "2021-08-18T11:50:34.161730Z"
    }
   },
   "outputs": [
    {
     "data": {
      "text/plain": [
       "<matplotlib.axes._subplots.AxesSubplot at 0x1d562ad9ac8>"
      ]
     },
     "execution_count": 22,
     "metadata": {},
     "output_type": "execute_result"
    },
    {
     "data": {
      "image/png": "[encoded data removed]",
      "text/plain": [
       "<Figure size 864x576 with 1 Axes>"
      ]
     },
     "metadata": {
      "needs_background": "light"
     },
     "output_type": "display_data"
    }
   ],
   "source": [
    "# Plot Budget vs. Gross using Seaborn Regression Plot\n",
    "\n",
    "sns.regplot(x='budget',y='gross',data=df, scatter_kws={\"color\":\"red\"}, line_kws={\"color\":\"blue\"})"
   ]
  },
  {
   "cell_type": "code",
   "execution_count": 23,
   "metadata": {
    "ExecuteTime": {
     "end_time": "2021-08-18T11:50:34.896860Z",
     "start_time": "2021-08-18T11:50:34.833348Z"
    }
   },
   "outputs": [
    {
     "ename": "NameError",
     "evalue": "name 'df_numerized' is not defined",
     "output_type": "error",
     "traceback": [
      "\u001b[1;31m---------------------------------------------------------------------------\u001b[0m",
      "\u001b[1;31mNameError\u001b[0m                                 Traceback (most recent call last)",
      "\u001b[1;32m<ipython-input-23-98800fe1a714>\u001b[0m in \u001b[0;36m<module>\u001b[1;34m\u001b[0m\n\u001b[0;32m      1\u001b[0m \u001b[1;31m# Correlation Table\u001b[0m\u001b[1;33m\u001b[0m\u001b[1;33m\u001b[0m\u001b[1;33m\u001b[0m\u001b[0m\n\u001b[1;32m----> 2\u001b[1;33m \u001b[0mcm\u001b[0m \u001b[1;33m=\u001b[0m \u001b[0mdf_numerized\u001b[0m\u001b[1;33m.\u001b[0m\u001b[0mcorr\u001b[0m\u001b[1;33m(\u001b[0m\u001b[0mmethod\u001b[0m\u001b[1;33m=\u001b[0m\u001b[1;34m'pearson'\u001b[0m\u001b[1;33m)\u001b[0m \u001b[1;31m#pearson, spearman, and kendall methods\u001b[0m\u001b[1;33m\u001b[0m\u001b[1;33m\u001b[0m\u001b[0m\n\u001b[0m",
      "\u001b[1;31mNameError\u001b[0m: name 'df_numerized' is not defined"
     ]
    }
   ],
   "source": [
    "# Correlation Table\n",
    "cm = df_numerized.corr(method='pearson') #pearson, spearman, and kendall methods"
   ]
  },
  {
   "cell_type": "code",
   "execution_count": null,
   "metadata": {
    "ExecuteTime": {
     "end_time": "2021-08-18T11:50:34.899360Z",
     "start_time": "2021-08-18T11:50:32.806Z"
    }
   },
   "outputs": [],
   "source": [
    "# High Correlation between budget and gross"
   ]
  },
  {
   "cell_type": "code",
   "execution_count": null,
   "metadata": {
    "ExecuteTime": {
     "end_time": "2021-08-18T11:50:34.900361Z",
     "start_time": "2021-08-18T11:50:32.807Z"
    }
   },
   "outputs": [],
   "source": [
    "plt.title('Correlation Matrix for Numeric Features')\n",
    "\n",
    "plt.xlabel('Movie Features')\n",
    "\n",
    "plt.ylabel('Movie Features')\n",
    "\n",
    "sns.heatmap(cm,cmap='coolwarm',linewidths=2, annot=True)\n",
    "\n",
    "plt.show()\n"
   ]
  },
  {
   "cell_type": "code",
   "execution_count": null,
   "metadata": {
    "ExecuteTime": {
     "end_time": "2021-08-18T11:50:34.901361Z",
     "start_time": "2021-08-18T11:50:32.808Z"
    }
   },
   "outputs": [],
   "source": [
    "# Check for outliers in Budget and Gross\n",
    "# Are there any Outliers?\n",
    "\n",
    "grossbox = sns.boxplot(x=df[\"gross\"], palette ='colorblind',  fliersize=3.5)\n",
    "\n",
    "# A LOT of high-level outliers. Appears to be no low-level outliers"
   ]
  },
  {
   "cell_type": "code",
   "execution_count": null,
   "metadata": {
    "ExecuteTime": {
     "end_time": "2021-08-18T11:50:34.902862Z",
     "start_time": "2021-08-18T11:50:32.810Z"
    }
   },
   "outputs": [],
   "source": [
    "budbox=sns.boxplot(x=df[\"budget\"], palette ='colorblind',  fliersize=3.5)\n",
    "\n",
    "# A LOT of high-level outliers. Appears to be no low-level outliers"
   ]
  },
  {
   "cell_type": "code",
   "execution_count": 39,
   "metadata": {
    "ExecuteTime": {
     "end_time": "2021-08-18T12:00:40.841037Z",
     "start_time": "2021-08-18T12:00:40.827034Z"
    }
   },
   "outputs": [
    {
     "data": {
      "text/html": [
       "<div>\n",
       "<style scoped>\n",
       "    .dataframe tbody tr th:only-of-type {\n",
       "        vertical-align: middle;\n",
       "    }\n",
       "\n",
       "    .dataframe tbody tr th {\n",
       "        vertical-align: top;\n",
       "    }\n",
       "\n",
       "    .dataframe thead th {\n",
       "        text-align: right;\n",
       "    }\n",
       "</style>\n",
       "<table border=\"1\" class=\"dataframe\">\n",
       "  <thead>\n",
       "    <tr style=\"text-align: right;\">\n",
       "      <th></th>\n",
       "      <th>name</th>\n",
       "      <th>rating</th>\n",
       "      <th>genre</th>\n",
       "      <th>year</th>\n",
       "      <th>released</th>\n",
       "      <th>score</th>\n",
       "      <th>votes</th>\n",
       "      <th>director</th>\n",
       "      <th>writer</th>\n",
       "      <th>star</th>\n",
       "      <th>country</th>\n",
       "      <th>budget</th>\n",
       "      <th>gross</th>\n",
       "      <th>company</th>\n",
       "      <th>runtime</th>\n",
       "      <th>gropss</th>\n",
       "    </tr>\n",
       "  </thead>\n",
       "  <tbody>\n",
       "    <tr>\n",
       "      <th>0</th>\n",
       "      <td>6587</td>\n",
       "      <td>7</td>\n",
       "      <td>6</td>\n",
       "      <td>1980</td>\n",
       "      <td>1632</td>\n",
       "      <td>8.4</td>\n",
       "      <td>927000.0</td>\n",
       "      <td>2589</td>\n",
       "      <td>4015</td>\n",
       "      <td>1048</td>\n",
       "      <td>55</td>\n",
       "      <td>19000000</td>\n",
       "      <td>46998772.0</td>\n",
       "      <td>2320</td>\n",
       "      <td>146.0</td>\n",
       "      <td>46998772</td>\n",
       "    </tr>\n",
       "    <tr>\n",
       "      <th>1</th>\n",
       "      <td>5573</td>\n",
       "      <td>7</td>\n",
       "      <td>1</td>\n",
       "      <td>1980</td>\n",
       "      <td>1924</td>\n",
       "      <td>5.8</td>\n",
       "      <td>65000.0</td>\n",
       "      <td>2269</td>\n",
       "      <td>1633</td>\n",
       "      <td>328</td>\n",
       "      <td>56</td>\n",
       "      <td>4500000</td>\n",
       "      <td>58853106.0</td>\n",
       "      <td>732</td>\n",
       "      <td>104.0</td>\n",
       "      <td>58853106</td>\n",
       "    </tr>\n",
       "    <tr>\n",
       "      <th>2</th>\n",
       "      <td>5142</td>\n",
       "      <td>5</td>\n",
       "      <td>0</td>\n",
       "      <td>1980</td>\n",
       "      <td>1681</td>\n",
       "      <td>8.7</td>\n",
       "      <td>1200000.0</td>\n",
       "      <td>1111</td>\n",
       "      <td>2568</td>\n",
       "      <td>1746</td>\n",
       "      <td>56</td>\n",
       "      <td>18000000</td>\n",
       "      <td>538375067.0</td>\n",
       "      <td>1541</td>\n",
       "      <td>124.0</td>\n",
       "      <td>538375067</td>\n",
       "    </tr>\n",
       "    <tr>\n",
       "      <th>3</th>\n",
       "      <td>286</td>\n",
       "      <td>5</td>\n",
       "      <td>4</td>\n",
       "      <td>1980</td>\n",
       "      <td>1924</td>\n",
       "      <td>7.7</td>\n",
       "      <td>221000.0</td>\n",
       "      <td>1301</td>\n",
       "      <td>2001</td>\n",
       "      <td>2247</td>\n",
       "      <td>56</td>\n",
       "      <td>3500000</td>\n",
       "      <td>83453539.0</td>\n",
       "      <td>1813</td>\n",
       "      <td>88.0</td>\n",
       "      <td>83453539</td>\n",
       "    </tr>\n",
       "    <tr>\n",
       "      <th>4</th>\n",
       "      <td>1027</td>\n",
       "      <td>7</td>\n",
       "      <td>4</td>\n",
       "      <td>1980</td>\n",
       "      <td>1969</td>\n",
       "      <td>7.3</td>\n",
       "      <td>108000.0</td>\n",
       "      <td>1054</td>\n",
       "      <td>522</td>\n",
       "      <td>411</td>\n",
       "      <td>56</td>\n",
       "      <td>6000000</td>\n",
       "      <td>39846344.0</td>\n",
       "      <td>1778</td>\n",
       "      <td>98.0</td>\n",
       "      <td>39846344</td>\n",
       "    </tr>\n",
       "  </tbody>\n",
       "</table>\n",
       "</div>"
      ],
      "text/plain": [
       "   name  rating  genre  year  released  score      votes  director  writer  \\\n",
       "0  6587       7      6  1980      1632    8.4   927000.0      2589    4015   \n",
       "1  5573       7      1  1980      1924    5.8    65000.0      2269    1633   \n",
       "2  5142       5      0  1980      1681    8.7  1200000.0      1111    2568   \n",
       "3   286       5      4  1980      1924    7.7   221000.0      1301    2001   \n",
       "4  1027       7      4  1980      1969    7.3   108000.0      1054     522   \n",
       "\n",
       "   star  country    budget        gross  company  runtime     gropss  \n",
       "0  1048       55  19000000   46998772.0     2320    146.0   46998772  \n",
       "1   328       56   4500000   58853106.0      732    104.0   58853106  \n",
       "2  1746       56  18000000  538375067.0     1541    124.0  538375067  \n",
       "3  2247       56   3500000   83453539.0     1813     88.0   83453539  \n",
       "4   411       56   6000000   39846344.0     1778     98.0   39846344  "
      ]
     },
     "execution_count": 39,
     "metadata": {},
     "output_type": "execute_result"
    }
   ],
   "source": [
    "# Convert non-numeric fields to numeric fields in order to run correlation matrixx\n",
    "\n",
    "df_numerized = df\n",
    "\n",
    "\n",
    "for col_name in df_numerized.columns:\n",
    "    if(df_numerized[col_name].dtype == 'object'):\n",
    "        df_numerized[col_name]= df_numerized[col_name].astype('category')\n",
    "        df_numerized[col_name] = df_numerized[col_name].cat.codes\n",
    "        \n",
    "df_numerized.head()"
   ]
  },
  {
   "cell_type": "code",
   "execution_count": 28,
   "metadata": {
    "ExecuteTime": {
     "end_time": "2021-08-18T11:51:55.257259Z",
     "start_time": "2021-08-18T11:51:55.243756Z"
    }
   },
   "outputs": [
    {
     "data": {
      "text/plain": [
       "name    name        1.000000\n",
       "        rating     -0.008069\n",
       "        genre       0.016355\n",
       "        year        0.011453\n",
       "        released    0.008300\n",
       "                      ...   \n",
       "gropss  budget      0.750157\n",
       "        gross       1.000000\n",
       "        company     0.156745\n",
       "        runtime     0.244339\n",
       "        gropss      1.000000\n",
       "Length: 256, dtype: float64"
      ]
     },
     "execution_count": 28,
     "metadata": {},
     "output_type": "execute_result"
    }
   ],
   "source": [
    "correlation_mat = df_numerized.corr()\n",
    "\n",
    "corr_pairs = correlation_mat.unstack()\n",
    "\n",
    "corr_pairs"
   ]
  },
  {
   "cell_type": "code",
   "execution_count": 29,
   "metadata": {
    "ExecuteTime": {
     "end_time": "2021-08-18T11:51:58.460320Z",
     "start_time": "2021-08-18T11:51:58.454320Z"
    }
   },
   "outputs": [
    {
     "data": {
      "text/plain": [
       "name    name        1.000000\n",
       "        rating     -0.008069\n",
       "        genre       0.016355\n",
       "        year        0.011453\n",
       "        released    0.008300\n",
       "                      ...   \n",
       "gropss  budget      0.750157\n",
       "        gross       1.000000\n",
       "        company     0.156745\n",
       "        runtime     0.244339\n",
       "        gropss      1.000000\n",
       "Length: 256, dtype: float64"
      ]
     },
     "execution_count": 29,
     "metadata": {},
     "output_type": "execute_result"
    }
   ],
   "source": [
    "corr_pairs"
   ]
  },
  {
   "cell_type": "raw",
   "metadata": {},
   "source": [
    "# sp = corr_pairs.sort_values()"
   ]
  },
  {
   "cell_type": "code",
   "execution_count": 37,
   "metadata": {
    "ExecuteTime": {
     "end_time": "2021-08-18T11:54:36.392083Z",
     "start_time": "2021-08-18T11:54:36.384081Z"
    }
   },
   "outputs": [
    {
     "ename": "NameError",
     "evalue": "name 'sp' is not defined",
     "output_type": "error",
     "traceback": [
      "\u001b[1;31m---------------------------------------------------------------------------\u001b[0m",
      "\u001b[1;31mNameError\u001b[0m                                 Traceback (most recent call last)",
      "\u001b[1;32m<ipython-input-37-c90fd1e1e50d>\u001b[0m in \u001b[0;36m<module>\u001b[1;34m\u001b[0m\n\u001b[1;32m----> 1\u001b[1;33m \u001b[0msp\u001b[0m\u001b[1;33m\u001b[0m\u001b[1;33m\u001b[0m\u001b[0m\n\u001b[0m",
      "\u001b[1;31mNameError\u001b[0m: name 'sp' is not defined"
     ]
    }
   ],
   "source": [
    "# sp"
   ]
  },
  {
   "cell_type": "code",
   "execution_count": 32,
   "metadata": {
    "ExecuteTime": {
     "end_time": "2021-08-18T11:52:23.402503Z",
     "start_time": "2021-08-18T11:52:23.394502Z"
    }
   },
   "outputs": [
    {
     "ename": "NameError",
     "evalue": "name 'sorted_pairs' is not defined",
     "output_type": "error",
     "traceback": [
      "\u001b[1;31m---------------------------------------------------------------------------\u001b[0m",
      "\u001b[1;31mNameError\u001b[0m                                 Traceback (most recent call last)",
      "\u001b[1;32m<ipython-input-32-29c41690431a>\u001b[0m in \u001b[0;36m<module>\u001b[1;34m\u001b[0m\n\u001b[1;32m----> 1\u001b[1;33m \u001b[0mhigh_corr\u001b[0m \u001b[1;33m=\u001b[0m \u001b[0msorted_pairs\u001b[0m\u001b[1;33m[\u001b[0m\u001b[1;33m(\u001b[0m\u001b[0msorted_pairs\u001b[0m\u001b[1;33m)\u001b[0m \u001b[1;33m>\u001b[0m \u001b[1;36m0.5\u001b[0m\u001b[1;33m]\u001b[0m\u001b[1;33m\u001b[0m\u001b[1;33m\u001b[0m\u001b[0m\n\u001b[0m",
      "\u001b[1;31mNameError\u001b[0m: name 'sorted_pairs' is not defined"
     ]
    }
   ],
   "source": [
    "# high_corr = sorted_pairs[(sorted_pairs) > 0.5]"
   ]
  },
  {
   "cell_type": "code",
   "execution_count": null,
   "metadata": {},
   "outputs": [],
   "source": []
  }
 ],
 "metadata": {
  "kernelspec": {
   "display_name": "Python 3",
   "language": "python",
   "name": "python3"
  },
  "language_info": {
   "codemirror_mode": {
    "name": "ipython",
    "version": 3
   },
   "file_extension": ".py",
   "mimetype": "text/x-python",
   "name": "python",
   "nbconvert_exporter": "python",
   "pygments_lexer": "ipython3",
   "version": "3.7.6"
  }
 },
 "nbformat": 4,
 "nbformat_minor": 4
}
